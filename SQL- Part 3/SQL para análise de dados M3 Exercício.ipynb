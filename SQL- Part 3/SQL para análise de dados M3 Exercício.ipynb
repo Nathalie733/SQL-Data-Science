{
  "cells": [
    {
      "cell_type": "markdown",
      "metadata": {
        "id": "qDxe2l4cMcVa"
      },
      "source": [
        "# **1. Selecionando dados**\n",
        "\n",
        "```sql\n",
        "CREATE EXTERNAL TABLE transacoes(\n",
        "  id_cliente BIGINT, \n",
        "  id_transacao BIGINT,\n",
        "  valor FLOAT,\n",
        "  id_loja STRING) \n",
        "ROW FORMAT SERDE 'org.apache.hadoop.hive.serde2.OpenCSVSerde'\n",
        "WITH SERDEPROPERTIES ('separatorChar' = ',', 'quoteChar' = '\"', 'escapeChar' = '\\\\')\n",
        "STORED AS TEXTFILE\n",
        "LOCATION 's3://bucket-transacoes/'\n",
        "```\n",
        "\n",
        "## 1.1 Query 1 \n",
        "\n",
        "```sql \n",
        "SELECT * from transacoes\n",
        "```\n"
      ]
    },
    {
      "cell_type": "markdown",
      "metadata": {
        "id": "N-lRqaLXiL9i"
      },
      "source": [
        "## 1.2 Query 2 \n",
        "\n",
        "```sql \n",
        "SELECT id_cliente , valor, id_loja AS nome_loja FROM transacoes;\n",
        "```\n"
      ]
    },
    {
      "cell_type": "markdown",
      "metadata": {
        "id": "R3WlvgbrRHfN"
      },
      "source": [
        "## 1.3 Query 3\n",
        "\n",
        "```sql \n",
        "SELECT DISTINCT  id_loja AS nome_loja FROM transacoes;\n",
        "```\n"
      ]
    },
    {
      "cell_type": "markdown",
      "metadata": {
        "id": "TAEj0KkuRxdw"
      },
      "source": [
        "# 2. Ordenando e limitando dados\n",
        "\n",
        "## 2.1 Query 4\n",
        "\n",
        "```sql \n",
        "SELECT id_cliente, valor FROM transacoes ORDER BY valor DESC LIMIT 2;\n",
        "```\n"
      ]
    }
  ],
  "metadata": {
    "colab": {
      "collapsed_sections": [],
      "name": "modulo_3_exercicio.ipynb",
      "provenance": [],
      "toc_visible": true
    },
    "kernelspec": {
      "display_name": "Python 3",
      "name": "python3"
    }
  },
  "nbformat": 4,
  "nbformat_minor": 0
}
