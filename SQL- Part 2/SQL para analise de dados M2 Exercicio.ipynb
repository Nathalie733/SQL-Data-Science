{
  "cells": [
    {
      "cell_type": "markdown",
      "metadata": {
        "id": "k4HJwfbQcEQw"
      },
      "source": [
        "# Atividades"
      ]
    },
    {
      "cell_type": "markdown",
      "metadata": {
        "id": "0cbohKQegVk7"
      },
      "source": [
        "# **1. Explorando os dados da tabela de clientes** "
      ]
    },
    {
      "cell_type": "markdown",
      "metadata": {
        "id": "0Airo3E0h5Ik"
      },
      "source": [
        "## **1.1. Query 1** "
      ]
    },
    {
      "cell_type": "markdown",
      "metadata": {
        "id": "2m92meC8gVk9"
      },
      "source": [
        "\n",
        "```sql\n",
        "SELECT id, idade, sexo, dependentes FROM clientes;\n",
        "```"
      ]
    },
    {
      "cell_type": "markdown",
      "metadata": {
        "id": "N-lRqaLXiL9i"
      },
      "source": [
        "## **1.2. Query 2** "
      ]
    },
    {
      "cell_type": "markdown",
      "metadata": {
        "id": "j_WeV8RliL9j"
      },
      "source": [
        "\n",
        "```sql\n",
        "SELECT id, valor_transacoes_12m FROM clientes WHERE escolaridade = 'mestrado' and sexo = 'F';\n",
        "```"
      ]
    },
    {
      "cell_type": "markdown",
      "metadata": {
        "id": "dnQoRZCGiMQH"
      },
      "source": [
        "## **1.3. Query 3** "
      ]
    },
    {
      "cell_type": "markdown",
      "metadata": {
        "id": "SyLk8zbaiMQI"
      },
      "source": [
        "\n",
        "```sql\n",
        "SELECT sexo, AVG(idade) AS \"media_idade_por_sexo\" FROM clientes GROUP BY sexo;\n",
        "```"
      ]
    },
    {
      "cell_type": "markdown",
      "metadata": {
        "id": "lzw2gZumdpQ2"
      },
      "source": [
        "# **2. Inserindo novos dados** "
      ]
    },
    {
      "cell_type": "markdown",
      "metadata": {
        "id": "RYCyuhLtd8_i"
      },
      "source": [
        "\n",
        "```sql\n",
        "SELECT * FROM clientes;\n",
        "```\n",
        "\n"
      ]
    },
    {
      "cell_type": "markdown",
      "metadata": {
        "id": "1R74tBgEkyfc"
      },
      "source": [
        "# **3. Criando e trabalhando com partições** "
      ]
    },
    {
      "cell_type": "markdown",
      "metadata": {
        "id": "TQ2mkhYwk459"
      },
      "source": [
        "\n",
        "\n",
        "## 3.1. Query 5 \n",
        "\n",
        "* Crie uma nova pasta no bucket com nome bucket-<seunome>-partitioned. \n",
        "* Dentro de  bucket-<seunome>-partitioned crie duas pastas: sexo=F e sexo=M.\n",
        "*   Dentro da pasta  bucket-< seunome >-partitioned/sexo=F coloque o arquivo disponível no material de aula: **sexo=F.csv**\n",
        "*   Dentro da pasta  bucket-< seunome >-partitioned/sexo=M coloque o arquivo disponível no material de aula: **sexo=M.csv**\n",
        "\n",
        "\n",
        "```sql\n",
        "CREATE EXTERNAL TABLE clientes_part(\n",
        "  id BIGINT, \n",
        "  idade BIGINT, \n",
        "  dependentes BIGINT, \n",
        "  escolaridade STRING, \n",
        "  tipo_cartao STRING, \n",
        "  limite_credito DOUBLE, \n",
        "  valor_transacoes_12m DOUBLE, \n",
        "  qtd_transacoes_12m BIGINT) \n",
        "  PARTITIONED BY (sexo string)\n",
        "ROW FORMAT SERDE 'org.apache.hadoop.hive.serde2.OpenCSVSerde'\n",
        "WITH SERDEPROPERTIES ('separatorChar' = ',', 'quoteChar' = '\"', 'escapeChar' = '\\\\')\n",
        "STORED AS TEXTFILE\n",
        "LOCATION 's3://bucket-nathalies-partitioned/'\n",
        "```\n",
        "\n",
        "\n",
        "Depois da mensagem de *Query sucessful*, carregue as partições com o comando:\n",
        "\n",
        "```sql\n",
        "MSCK REPAIR TABLE clientes_part;\n",
        "```\n",
        "Para verificar e entregar o exercício, execute a query:\n",
        "\n",
        "```sql\n",
        "select * from clientes_part where sexo = 'F';\n",
        "```\n"
      ]
    },
    {
      "cell_type": "markdown",
      "metadata": {
        "id": "nopjv_iCx44z"
      },
      "source": [
        "## 3.2. Query 6\n",
        "\n",
        "SELECT id, idade, limite_credito FROM clientes_part WHERE sexo = 'M' ORDER BY limite_credito DESC;\n",
        "```"
      ]
    },
    {
      "cell_type": "markdown",
      "metadata": {
        "id": "YGqKrZAOwwBV"
      },
      "source": [
        "# **4. Adicionando colunas**\n",
        "\n",
        "## 4.1. Query 7\n",
        "\n",
        "```sql\n",
        "ALTER TABLE clientes ADD COLUMNS (estado string)\n",
        "```\n",
        "\n",
        "Verifique a adicão da nova coluna e envie o resultado da Query 7:\n",
        "\n",
        "```sql\n",
        "SELECT * from clientes\n",
        "```"
      ]
    }
  ],
  "metadata": {
    "colab": {
      "collapsed_sections": [],
      "name": "modulo_2_exercicio.ipynb",
      "provenance": [],
      "toc_visible": true
    },
    "kernelspec": {
      "display_name": "Python 3",
      "name": "python3"
    }
  },
  "nbformat": 4,
  "nbformat_minor": 0
}
