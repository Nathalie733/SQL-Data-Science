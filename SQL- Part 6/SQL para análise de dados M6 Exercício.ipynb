{
  "cells": [
    {
      "cell_type": "markdown",
      "metadata": {
        "id": "Lyqe05QXcERP"
      },
      "source": [
        "# **1. Criação da tabela** "
      ]
    },
    {
      "cell_type": "markdown",
      "metadata": {
        "id": "Rq7i2Tb4cERP"
      },
      "source": [
        "\n",
        "```sql\n",
        "CREATE EXTERNAL TABLE IF NOT EXISTS default.cliente (\n",
        "  `id_cliente` int,\n",
        "  `nome` string, \n",
        "  `valor_compra` double,\n",
        "  `loja_cadastro` string \n",
        ")\n",
        "ROW FORMAT SERDE 'org.apache.hadoop.hive.serde2.lazy.LazySimpleSerDe'\n",
        "WITH SERDEPROPERTIES (\n",
        "  'serialization.format' = ',',\n",
        "  'field.delim' = ','\n",
        ") LOCATION 's3://modulo6-mari-ebac/cliente/'\n",
        "TBLPROPERTIES ('has_encrypted_data'='false');\n",
        "```\n",
        "e\n",
        "\n",
        "```sql\n",
        "CREATE EXTERNAL TABLE IF NOT EXISTS default.transacoes (\n",
        "  `id_cliente` int,\n",
        "  `id_transacao` int,\n",
        "  `valor_compra` double,\n",
        "  `id_loja` string \n",
        ")\n",
        "ROW FORMAT SERDE 'org.apache.hadoop.hive.serde2.lazy.LazySimpleSerDe'\n",
        "WITH SERDEPROPERTIES (\n",
        "  'serialization.format' = ',',\n",
        "  'field.delim' = ','\n",
        ") LOCATION 's3://modulo6-mari-ebac/transacoes/'\n",
        "TBLPROPERTIES ('has_encrypted_data'='false');\n",
        "```\n"
      ]
    },
    {
      "cell_type": "markdown",
      "metadata": {
        "id": "0cbohKQegVk7"
      },
      "source": [
        "# **2. Função UNION** "
      ]
    },
    {
      "cell_type": "markdown",
      "metadata": {
        "id": "0Airo3E0h5Ik"
      },
      "source": [
        "## 2.1. Query 1 "
      ]
    },
    {
      "cell_type": "markdown",
      "metadata": {
        "id": "2m92meC8gVk9"
      },
      "source": [
        "\n",
        "```sql\n",
        "SELECT id_cliente FROM transacoes\n",
        "UNION\n",
        "SELECT id_cliente  FROM cliente;\n",
        "```"
      ]
    },
    {
      "cell_type": "markdown",
      "metadata": {
        "id": "SHjoPsx2JFw8"
      },
      "source": [
        "# **3.Junções inner/cross**\n",
        "\n",
        "\n"
      ]
    },
    {
      "cell_type": "markdown",
      "metadata": {
        "id": "cNocCBKQJVea"
      },
      "source": [
        "## 3.1 Query 2 \n",
        "\n",
        "```sql\n",
        "SELECT transacoes.id_cliente, cliente.nome\n",
        "FROM transacoes\n",
        "INNER JOIN cliente\n",
        "ON transacoes.id_cliente = cliente.id_cliente;\n",
        "```"
      ]
    },
    {
      "cell_type": "markdown",
      "metadata": {
        "id": "8O5UmLCdJX4h"
      },
      "source": [
        "## 3.2. Query 3\n",
        "\n",
        "```sql\n",
        "SELECT *\n",
        "FROM cliente\n",
        "CROSS JOIN transacoes;\n",
        "```"
      ]
    },
    {
      "cell_type": "markdown",
      "metadata": {
        "id": "H4hIfbRVJaUk"
      },
      "source": [
        "# **4. Junções: left / right**"
      ]
    },
    {
      "cell_type": "markdown",
      "metadata": {
        "id": "B7ogcizXJffQ"
      },
      "source": [
        "## 4.1 Query 4\n",
        "\n",
        "\n",
        "```sql\n",
        "SELECT *\n",
        "FROM transacoes\n",
        "LEFT JOIN cliente \n",
        "ON cliente.id_cliente = transacoes.id_cliente;\n",
        "```"
      ]
    },
    {
      "cell_type": "markdown",
      "metadata": {
        "id": "TdPhadO3JizI"
      },
      "source": [
        "## 4.2 Query 5\n",
        "\n",
        "```sql\n",
        "SELECT *\n",
        "FROM transacoes\n",
        "RIGHT JOIN cliente \n",
        "ON cliente.id_cliente = transacoes.id_cliente;\n",
        "```"
      ]
    }
  ],
  "metadata": {
    "colab": {
      "collapsed_sections": [],
      "name": "modulo_6_exercicio.ipynb",
      "provenance": [],
      "toc_visible": true
    },
    "kernelspec": {
      "display_name": "Python 3",
      "name": "python3"
    }
  },
  "nbformat": 4,
  "nbformat_minor": 0
}
