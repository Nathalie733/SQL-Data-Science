{
  "cells": [
    {
      "cell_type": "markdown",
      "metadata": {
        "id": "k4HJwfbQcEQw"
      },
      "source": [
        "# Atividades"
      ]
    },
    {
      "cell_type": "markdown",
      "metadata": {
        "id": "Lyqe05QXcERP"
      },
      "source": [
        "## **1. Criação da tabela** "
      ]
    },
    {
      "cell_type": "markdown",
      "metadata": {
        "id": "Rq7i2Tb4cERP"
      },
      "source": [
        "\n",
        "```sql\n",
        "CREATE EXTERNAL TABLE IF NOT EXISTS default.heartattack (\n",
        "  `age` int,\n",
        "  `sex` int,\n",
        "  `cp` int,\n",
        "  `trtbps` int,\n",
        "  `chol` int,\n",
        "  `fbs` int,\n",
        "  `restecg` int,\n",
        "  `thalachh` int,\n",
        "  `exng` int,\n",
        "  `oldpeak` double,\n",
        "  `slp` int,\n",
        "  `caa` int,\n",
        "  `thall` int,\n",
        "  `output` int \n",
        ")\n",
        "ROW FORMAT SERDE 'org.apache.hadoop.hive.serde2.lazy.LazySimpleSerDe'\n",
        "WITH SERDEPROPERTIES (\n",
        "  'serialization.format' = ',',\n",
        "  'field.delim' = ','\n",
        ") LOCATION 's3://heart-attack-<seu-nome>-ebac/'\n",
        "TBLPROPERTIES ('has_encrypted_data'='false');\n",
        "```\n",
        "```"
      ]
    },
    {
      "cell_type": "markdown",
      "metadata": {
        "id": "0cbohKQegVk7"
      },
      "source": [
        "## **2. Função COUNT e GROUP BY** "
      ]
    },
    {
      "cell_type": "markdown",
      "metadata": {
        "id": "0Airo3E0h5Ik"
      },
      "source": [
        "### **2.1. Query 1** "
      ]
    },
    {
      "cell_type": "markdown",
      "metadata": {
        "id": "2m92meC8gVk9"
      },
      "source": [
        "\n",
        "\n",
        "```sql\n",
        "SELECT * FROM heartattack limit 10;\n",
        "```"
      ]
    },
    {
      "cell_type": "markdown",
      "metadata": {
        "id": "N-lRqaLXiL9i"
      },
      "source": [
        "### **2.2. Query 2** "
      ]
    },
    {
      "cell_type": "markdown",
      "metadata": {
        "id": "j_WeV8RliL9j"
      },
      "source": [
        "\n",
        "\n",
        "```sql\n",
        "SELECT COUNT(age) AS QUANTIDADE_LINHAS\n",
        "FROM heartattack\n",
        "```\n",
        "\n"
      ]
    },
    {
      "cell_type": "markdown",
      "metadata": {
        "id": "dnQoRZCGiMQH"
      },
      "source": [
        "### **2.3. Query 3** "
      ]
    },
    {
      "cell_type": "markdown",
      "metadata": {
        "id": "SyLk8zbaiMQI"
      },
      "source": [
        "\n",
        "```sql\n",
        "SELECT COUNT(age) AS QUANTIDADE, \n",
        "CASE\n",
        "WHEN output =1 THEN ' more chance of heart attack'\n",
        "ELSE 'less chance of heart attack'\n",
        "END AS output\n",
        "FROM heartattack\n",
        "GROUP BY output;\n",
        "```"
      ]
    },
    {
      "cell_type": "markdown",
      "metadata": {
        "id": "N6KPB8-PqzCF"
      },
      "source": [
        "## **3.Funções MIN/MAX/SUM/AVG**\n",
        "\n"
      ]
    },
    {
      "cell_type": "markdown",
      "metadata": {
        "id": "Qc0F_qO3rL5A"
      },
      "source": [
        "### 3.1 Query 4"
      ]
    },
    {
      "cell_type": "markdown",
      "metadata": {
        "id": "hriL4EPGrKQI"
      },
      "source": [
        "\n",
        "```sql\n",
        "SELECT MAX(age), MIN(age), AVG(age), output  \n",
        "FROM heartattack\n",
        "GROUP BY output\n",
        "```"
      ]
    },
    {
      "cell_type": "markdown",
      "metadata": {
        "id": "Zy7uFQNDrvjR"
      },
      "source": [
        "### 3.2 Query 5\n",
        "\n"
      ]
    },
    {
      "cell_type": "markdown",
      "metadata": {
        "id": "8zWnHcfyr4UH"
      },
      "source": [
        "\n",
        "```sql\n",
        "SELECT MAX(age), MIN(age), AVG(age), output ,sex\n",
        "FROM heartattack\n",
        "GROUP BY output, sex;\n",
        "```\n",
        "\n"
      ]
    },
    {
      "cell_type": "markdown",
      "metadata": {
        "id": "u15ypNI9sXZ6"
      },
      "source": [
        "## 4. Função HAVING\n",
        "\n"
      ]
    },
    {
      "cell_type": "markdown",
      "metadata": {
        "id": "BENnJi41srbE"
      },
      "source": [
        "### 4.1. Query 6"
      ]
    },
    {
      "cell_type": "markdown",
      "metadata": {
        "id": "rpDQDxm4s4ML"
      },
      "source": [
        "\n",
        "```sql\n",
        "SELECT COUNT(output), output, sex \n",
        "FROM heartattack\n",
        "GROUP BY output, sex\n",
        "having COUNT(output) > 25\n",
        "```\n"
      ]
    }
  ],
  "metadata": {
    "colab": {
      "collapsed_sections": [],
      "name": "modulo_5_exercicio.ipynb",
      "provenance": [],
      "toc_visible": true
    },
    "kernelspec": {
      "display_name": "Python 3",
      "name": "python3"
    }
  },
  "nbformat": 4,
  "nbformat_minor": 0
}
