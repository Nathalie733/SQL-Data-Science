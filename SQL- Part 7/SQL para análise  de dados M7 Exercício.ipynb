{
  "cells": [
    {
      "cell_type": "markdown",
      "metadata": {
        "id": "Lyqe05QXcERP"
      },
      "source": [
        "# **1. Criação da tabela** "
      ]
    },
    {
      "cell_type": "markdown",
      "metadata": {
        "id": "Rq7i2Tb4cERP"
      },
      "source": [
        "\n",
        "```sql\n",
        "CREATE EXTERNAL TABLE IF NOT EXISTS default.cliente (\n",
        "  `id_cliente` int,\n",
        "  `nome` string, \n",
        "  `valor_compra` double,\n",
        "  `loja_cadastro` string \n",
        ")\n",
        "ROW FORMAT SERDE 'org.apache.hadoop.hive.serde2.lazy.LazySimpleSerDe'\n",
        "WITH SERDEPROPERTIES (\n",
        "  'serialization.format' = ',',\n",
        "  'field.delim' = ','\n",
        ") LOCATION 's3://modulo7-mari-ebac/cliente/'\n",
        "TBLPROPERTIES ('has_encrypted_data'='false');\n",
        "```\n",
        "e\n",
        "\n",
        "```sql\n",
        "CREATE EXTERNAL TABLE IF NOT EXISTS default.transacoes (\n",
        "  `id_cliente` int,\n",
        "  `id_transacao` bigint,\n",
        "  `valor_compra` double,\n",
        "  `id_loja` string \n",
        ")\n",
        "ROW FORMAT SERDE 'org.apache.hadoop.hive.serde2.lazy.LazySimpleSerDe'\n",
        "WITH SERDEPROPERTIES (\n",
        "  'serialization.format' = ',',\n",
        "  'field.delim' = ','\n",
        ") LOCATION 's3://modulo7-mari-ebac/transacoes/'\n",
        "TBLPROPERTIES ('has_encrypted_data'='false');\n",
        "```\n"
      ]
    },
    {
      "cell_type": "markdown",
      "metadata": {
        "id": "0cbohKQegVk7"
      },
      "source": [
        "# **2. Subqueries** "
      ]
    },
    {
      "cell_type": "markdown",
      "metadata": {
        "id": "0Airo3E0h5Ik"
      },
      "source": [
        "## 2.1. Query 1 "
      ]
    },
    {
      "cell_type": "markdown",
      "metadata": {
        "id": "2m92meC8gVk9"
      },
      "source": [
        "\n",
        "```sql\n",
        "SELECT id_loja, id_cliente, id_transacao from transacoes \n",
        "WHERE id_loja IN\n",
        "(SELECT cliente.loja_cadastro from cliente where cliente.valor_compra > 160 )\n",
        "```"
      ]
    },
    {
      "cell_type": "markdown",
      "metadata": {
        "id": "SHjoPsx2JFw8"
      },
      "source": [
        "# **3.Particionamento**\n",
        "\n",
        "**Configuração**\n",
        "\n",
        "\n"
      ]
    },
    {
      "cell_type": "markdown",
      "metadata": {
        "id": "LtLFY61Gz3rU"
      },
      "source": [
        "\n",
        "```sql\n",
        "CREATE EXTERNAL TABLE transacoes_part(\n",
        "  id_cliente BIGINT, \n",
        "  id_transacoes BIGINT, \n",
        "  valor DOUBLE) \n",
        "  PARTITIONED BY (id_loja string)\n",
        "ROW FORMAT SERDE 'org.apache.hadoop.hive.serde2.lazy.LazySimpleSerDe'\n",
        "WITH SERDEPROPERTIES (\n",
        "  'serialization.format' = ',',\n",
        "  'field.delim' = ','\n",
        ") \n",
        "LOCATION 's3://transacoes-partition-mari/'\n",
        "```\n",
        "\n",
        "\n",
        "```sql\n",
        "MSCK REPAIR TABLE transacoes_part;\n",
        "```\n",
        "\n",
        "\n",
        "```sql\n",
        "select count(*) from transacoes\n",
        "```\n",
        "\n",
        "\n",
        "```sql\n",
        "select count(*) from transacoes_part\n",
        "```\n"
      ]
    },
    {
      "cell_type": "markdown",
      "metadata": {
        "id": "cNocCBKQJVea"
      },
      "source": [
        "## 3.1 Query 2 \n",
        "\n",
        "\n",
        "```sql\n",
        "SELECT * FROM transacoes_part where id_loja = 'magalu'\n",
        "```\n",
        "\n",
        "```sql\n",
        "SELECT * FROM transacoes where id_loja = 'magalu'\n",
        "```"
      ]
    },
    {
      "cell_type": "markdown",
      "metadata": {
        "id": "H4hIfbRVJaUk"
      },
      "source": [
        "# **4. Visões**\n"
      ]
    },
    {
      "cell_type": "markdown",
      "metadata": {
        "id": "B7ogcizXJffQ"
      },
      "source": [
        "## 4.1 Query 3\n",
        "\n",
        "\n",
        "```sql\n",
        "CREATE VIEW  transacoesv100 AS\n",
        "SELECT id_cliente , valor_compra, id_loja AS nome_loja FROM transacoes where valor_compra > 100\n",
        "```\n",
        "\n",
        "\n",
        "```sql\n",
        "select * from transacoesv100\n",
        "```\n",
        "\n"
      ]
    },
    {
      "cell_type": "markdown",
      "metadata": {
        "id": "TdPhadO3JizI"
      },
      "source": [
        "## 4.2 Query 4\n",
        "\n",
        "\n",
        "```sql\n",
        "CREATE VIEW clientevalor  AS \n",
        "SELECT id_cliente, valor_compra FROM transacoes ORDER BY valor_compra DESC LIMIT 2;\n",
        "```\n",
        "\n",
        "\n",
        "```sql\n",
        "select * from clientevalor\n",
        "```\n",
        "\n"
      ]
    }
  ],
  "metadata": {
    "colab": {
      "collapsed_sections": [],
      "name": "modulo_7_exercicio.ipynb",
      "provenance": [],
      "toc_visible": true
    },
    "kernelspec": {
      "display_name": "Python 3",
      "name": "python3"
    }
  },
  "nbformat": 4,
  "nbformat_minor": 0
}
